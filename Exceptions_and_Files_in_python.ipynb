{
  "cells": [
    {
      "cell_type": "markdown",
      "metadata": {
        "id": "view-in-github",
        "colab_type": "text"
      },
      "source": [
        "<a href=\"https://colab.research.google.com/github/sandipbnkr/Python/blob/main/Exceptions_and_Files_in_python.ipynb\" target=\"_parent\"><img src=\"https://colab.research.google.com/assets/colab-badge.svg\" alt=\"Open In Colab\"/></a>"
      ]
    },
    {
      "cell_type": "markdown",
      "source": [
        "# New Section"
      ],
      "metadata": {
        "id": "AGFNBLkPvt4x"
      },
      "id": "AGFNBLkPvt4x"
    },
    {
      "cell_type": "code",
      "source": [
        "a=5\n",
        "b=10\n",
        "c=b/a\n",
        "print(c)\n",
        "print(\"executed\")"
      ],
      "metadata": {
        "id": "jwWDV0FUn_6z",
        "colab": {
          "base_uri": "https://localhost:8080/"
        },
        "outputId": "b9f45b05-1f56-4330-ecca-b8dff5aacaf5"
      },
      "id": "jwWDV0FUn_6z",
      "execution_count": null,
      "outputs": [
        {
          "output_type": "stream",
          "name": "stdout",
          "text": [
            "2.0\n",
            "executed\n"
          ]
        }
      ]
    },
    {
      "cell_type": "code",
      "source": [],
      "metadata": {
        "id": "gRd4ZjqMoBch"
      },
      "id": "gRd4ZjqMoBch",
      "execution_count": null,
      "outputs": []
    },
    {
      "cell_type": "markdown",
      "source": [
        "**Exceptions**\n",
        "\n",
        "**SyntaxError**: This exception is raised when the interpreter encounters a syntax error in the code, such as a misspelled keyword, a missing colon, or an unbalanced parenthesis.\n",
        "\n",
        "**TypeError:** This exception is raised when an operation or function is applied to an object of the wrong type, such as adding a string to an integer.\n",
        "\n",
        "**NameError:** This exception is raised when a variable or function name is not found in the current scope.\n",
        "\n",
        "**IndexError:** This exception is raised when an index is out of range for a list, tuple, or other sequence types.\n",
        "\n",
        "**KeyError:** This exception is raised when a key is not found in a dictionary.\n",
        "\n",
        "**ValueError:** This exception is raised when a function or method is called with an invalid argument or input, such as trying to convert a string to an integer when the string does not represent a valid integer.\n",
        "\n",
        "**AttributeError:** This exception is raised when an attribute or method is not found on an object, such as trying to access a non-existent attribute of a class instance.\n",
        "\n",
        "**IOError** This exception is raised when an I/O operation, such as reading or writing a file, fails due to an input/output error.\n",
        "\n",
        "**ZeroDivisionError** This exception is raised when an attempt is made to divide a number by zero.\n",
        "\n",
        "**ImportError:** This exception is raised when an import statement fails to find or load a module."
      ],
      "metadata": {
        "id": "GSz6b5CpB2Ck"
      },
      "id": "GSz6b5CpB2Ck"
    },
    {
      "cell_type": "code",
      "source": [],
      "metadata": {
        "id": "-rZBBX8GBz8a"
      },
      "id": "-rZBBX8GBz8a",
      "execution_count": null,
      "outputs": []
    },
    {
      "cell_type": "code",
      "source": [],
      "metadata": {
        "id": "w-IU-M_Pn-zW"
      },
      "id": "w-IU-M_Pn-zW",
      "execution_count": null,
      "outputs": []
    },
    {
      "cell_type": "code",
      "source": [
        "a=2\n",
        "b=10\n",
        "try:\n",
        "  c=b/a\n",
        "  print(c)\n",
        "except as e:\n",
        "  print(\"error has occured\")\n",
        "print(\"executed\")"
      ],
      "metadata": {
        "colab": {
          "base_uri": "https://localhost:8080/"
        },
        "id": "1x99A3glB09A",
        "outputId": "aa681f16-dc3f-46cc-d61f-588369365bb7"
      },
      "id": "1x99A3glB09A",
      "execution_count": null,
      "outputs": [
        {
          "output_type": "stream",
          "name": "stdout",
          "text": [
            "5.0\n",
            "executed\n"
          ]
        }
      ]
    },
    {
      "cell_type": "code",
      "source": [
        "a=0\n",
        "b=10\n",
        "try:\n",
        "  c=b/a\n",
        "  print(c)\n",
        "except Exception as e:\n",
        "  print(\"error has occured : \",e)\n",
        "print(\"executed\")"
      ],
      "metadata": {
        "colab": {
          "base_uri": "https://localhost:8080/"
        },
        "id": "g2bUfU1dB1GR",
        "outputId": "a0877b64-497c-43f8-9fef-c05a96ebfffb"
      },
      "id": "g2bUfU1dB1GR",
      "execution_count": null,
      "outputs": [
        {
          "output_type": "stream",
          "name": "stdout",
          "text": [
            "error has occured  division by zero\n",
            "executed\n"
          ]
        }
      ]
    },
    {
      "cell_type": "code",
      "source": [
        "a=int(input(\"input:\"))\n",
        "b=int(input(\"input:\"))\n",
        "try:\n",
        "  c=b/a\n",
        "  print(c)\n",
        "except Exception as e:\n",
        "  print(\"error has occured : \",e)\n"
      ],
      "metadata": {
        "colab": {
          "base_uri": "https://localhost:8080/",
          "height": 228
        },
        "id": "BJssFPXfB1J5",
        "outputId": "bf97a9c2-a6c2-4543-a116-b5dcd583d4bd"
      },
      "id": "BJssFPXfB1J5",
      "execution_count": null,
      "outputs": [
        {
          "name": "stdout",
          "output_type": "stream",
          "text": [
            "input:s\n"
          ]
        },
        {
          "output_type": "error",
          "ename": "ValueError",
          "evalue": "invalid literal for int() with base 10: 's'",
          "traceback": [
            "\u001b[0;31m---------------------------------------------------------------------------\u001b[0m",
            "\u001b[0;31mValueError\u001b[0m                                Traceback (most recent call last)",
            "\u001b[0;32m<ipython-input-9-ef8b5a28c0a0>\u001b[0m in \u001b[0;36m<cell line: 1>\u001b[0;34m()\u001b[0m\n\u001b[0;32m----> 1\u001b[0;31m \u001b[0ma\u001b[0m\u001b[0;34m=\u001b[0m\u001b[0mint\u001b[0m\u001b[0;34m(\u001b[0m\u001b[0minput\u001b[0m\u001b[0;34m(\u001b[0m\u001b[0;34m\"input:\"\u001b[0m\u001b[0;34m)\u001b[0m\u001b[0;34m)\u001b[0m\u001b[0;34m\u001b[0m\u001b[0;34m\u001b[0m\u001b[0m\n\u001b[0m\u001b[1;32m      2\u001b[0m \u001b[0mb\u001b[0m\u001b[0;34m=\u001b[0m\u001b[0mint\u001b[0m\u001b[0;34m(\u001b[0m\u001b[0minput\u001b[0m\u001b[0;34m(\u001b[0m\u001b[0;34m\"input:\"\u001b[0m\u001b[0;34m)\u001b[0m\u001b[0;34m)\u001b[0m\u001b[0;34m\u001b[0m\u001b[0;34m\u001b[0m\u001b[0m\n\u001b[1;32m      3\u001b[0m \u001b[0;32mtry\u001b[0m\u001b[0;34m:\u001b[0m\u001b[0;34m\u001b[0m\u001b[0;34m\u001b[0m\u001b[0m\n\u001b[1;32m      4\u001b[0m   \u001b[0mc\u001b[0m\u001b[0;34m=\u001b[0m\u001b[0mb\u001b[0m\u001b[0;34m/\u001b[0m\u001b[0ma\u001b[0m\u001b[0;34m\u001b[0m\u001b[0;34m\u001b[0m\u001b[0m\n\u001b[1;32m      5\u001b[0m   \u001b[0mprint\u001b[0m\u001b[0;34m(\u001b[0m\u001b[0mc\u001b[0m\u001b[0;34m)\u001b[0m\u001b[0;34m\u001b[0m\u001b[0;34m\u001b[0m\u001b[0m\n",
            "\u001b[0;31mValueError\u001b[0m: invalid literal for int() with base 10: 's'"
          ]
        }
      ]
    },
    {
      "cell_type": "code",
      "source": [
        "a=int(input(\"input:\"))\n",
        "b=int(input(\"input:\"))\n",
        "try:\n",
        "  print(\"Resources open\")\n",
        "  c=a/b\n",
        "  print(c)\n",
        "except ValueError as v:\n",
        "  print(\"Error with value: \",v)\n",
        "except ZeroDivisionError:\n",
        "  print(\" Error is casued due to zero division Be careful while entering values\")\n",
        "except Exception as e:\n",
        "  print(\"error has occured : \",e)\n",
        "else:\n",
        "  print(\"Will I?????\")\n",
        "finally:\n",
        "  print(\"Resources closed\")"
      ],
      "metadata": {
        "colab": {
          "base_uri": "https://localhost:8080/"
        },
        "id": "sbFOpelSB1Nd",
        "outputId": "a4fa572d-4c62-41d1-8b16-32644d84c076"
      },
      "id": "sbFOpelSB1Nd",
      "execution_count": null,
      "outputs": [
        {
          "output_type": "stream",
          "name": "stdout",
          "text": [
            "input:10\n",
            "input:3\n",
            "Resources open\n",
            "3.3333333333333335\n",
            "Will I?????\n",
            "Resources closed\n"
          ]
        }
      ]
    },
    {
      "cell_type": "code",
      "source": [
        "# value error\n",
        "a=10\n",
        "b=int('valueerror')\n",
        "print(b)"
      ],
      "metadata": {
        "id": "xTuJ51qkB1Q9"
      },
      "id": "xTuJ51qkB1Q9",
      "execution_count": null,
      "outputs": []
    },
    {
      "cell_type": "code",
      "source": [
        "#type error\n",
        "\n",
        "name=\"Sandip\"\n",
        "num = 4\n",
        "place=\"NMIMS\"\n",
        "print(name + num + place)"
      ],
      "metadata": {
        "id": "zWPxMdUSB1Tl"
      },
      "id": "zWPxMdUSB1Tl",
      "execution_count": null,
      "outputs": []
    },
    {
      "cell_type": "code",
      "source": [],
      "metadata": {
        "id": "C1CPCOAPB1WV"
      },
      "id": "C1CPCOAPB1WV",
      "execution_count": null,
      "outputs": []
    },
    {
      "cell_type": "code",
      "source": [],
      "metadata": {
        "id": "GXi9vbd7B1ZP"
      },
      "id": "GXi9vbd7B1ZP",
      "execution_count": null,
      "outputs": []
    },
    {
      "cell_type": "markdown",
      "source": [
        "**File handling**\n",
        "\n"
      ],
      "metadata": {
        "id": "iZR4Kxl5JrJA"
      },
      "id": "iZR4Kxl5JrJA"
    },
    {
      "cell_type": "code",
      "execution_count": null,
      "id": "bd170b35",
      "metadata": {
        "id": "bd170b35",
        "outputId": "80fdc62d-e87f-48e6-e99b-64fa9e91b336",
        "colab": {
          "base_uri": "https://localhost:8080/"
        }
      },
      "outputs": [
        {
          "output_type": "stream",
          "name": "stdout",
          "text": [
            "contents are appended successfully\n"
          ]
        }
      ],
      "source": [
        "f = open(\"Python.txt\",\"a\")\n",
        "f.write(\"HMMMMMMMMMMMMMMMMMMMMMMMMMMMMMMMM Pata nahi.............\")\n",
        "print(\"contents are appended successfully\")\n",
        "f.close()"
      ]
    },
    {
      "cell_type": "code",
      "execution_count": null,
      "id": "3f659081",
      "metadata": {
        "id": "3f659081",
        "outputId": "3d39c0fc-da62-4475-c41b-66a6064c2c80",
        "colab": {
          "base_uri": "https://localhost:8080/"
        }
      },
      "outputs": [
        {
          "output_type": "stream",
          "name": "stdout",
          "text": [
            "File not found...\n",
            "I will be always executed...\n"
          ]
        }
      ],
      "source": [
        "try:\n",
        "    f = open(\"nahi.txt\",\"r\")\n",
        "    lines = f.read()\n",
        "    print(lines)\n",
        "    f.close()\n",
        "except:\n",
        "    print(\"File not found...\")\n",
        "else:\n",
        "    print(\"will I ??\")\n",
        "finally:\n",
        "    print(\"I will be always executed...\")"
      ]
    },
    {
      "cell_type": "code",
      "execution_count": null,
      "id": "ecd223ee",
      "metadata": {
        "id": "ecd223ee",
        "outputId": "c1389550-e5f1-46b8-9560-d1f301c57190",
        "colab": {
          "base_uri": "https://localhost:8080/"
        }
      },
      "outputs": [
        {
          "output_type": "stream",
          "name": "stdout",
          "text": [
            "7 Not found\n"
          ]
        }
      ],
      "source": [
        "l=[1,2,3,4,5]\n",
        "k=7\n",
        "for i in range(len(l)):\n",
        "    if l[i]==k:\n",
        "        print(k,\"found at postion \",(i+1))\n",
        "        break\n",
        "else:\n",
        "    print(k,\"Not found\")"
      ]
    },
    {
      "cell_type": "code",
      "execution_count": null,
      "id": "3c5b6d80",
      "metadata": {
        "id": "3c5b6d80"
      },
      "outputs": [],
      "source": []
    },
    {
      "cell_type": "code",
      "execution_count": null,
      "id": "054de23a",
      "metadata": {
        "id": "054de23a"
      },
      "outputs": [],
      "source": []
    },
    {
      "cell_type": "code",
      "execution_count": null,
      "id": "10a676e9",
      "metadata": {
        "id": "10a676e9"
      },
      "outputs": [],
      "source": [
        "# Copy file to another...\n"
      ]
    },
    {
      "cell_type": "code",
      "execution_count": null,
      "id": "77891eea",
      "metadata": {
        "id": "77891eea",
        "outputId": "38caad24-ab3f-4c8d-c888-4c16c717f9ce",
        "colab": {
          "base_uri": "https://localhost:8080/"
        }
      },
      "outputs": [
        {
          "output_type": "stream",
          "name": "stdout",
          "text": [
            "['Good Morning  Good Afternoon  Good Evening  Good Night ']\n"
          ]
        }
      ],
      "source": [
        "#1.Write a list of lines into a file using writelines()\n",
        "#and then to print non-empty lines of the file one at a time.\n",
        "lines = ['Good Morning ',' Good Afternoon ', ' Good Evening ',' Good Night ']\n",
        "\n",
        "f = open(r'pgm1.txt', 'w')\n",
        "f.writelines(lines)\n",
        "f.close()\n",
        "\n",
        "f = open(\"pgm1.txt\", \"r\")\n",
        "ls=f.readlines()\n",
        "print(ls)\n",
        "\n",
        "f.close()"
      ]
    },
    {
      "cell_type": "code",
      "execution_count": null,
      "id": "d30694c6",
      "metadata": {
        "id": "d30694c6",
        "outputId": "def214d6-7c30-4e60-ef5d-c24c2ceaa885"
      },
      "outputs": [
        {
          "name": "stdout",
          "output_type": "stream",
          "text": [
            "Enter lineHow are you\n",
            "Enter 'y' to continue writting  & 'n' to stop writtingy\n",
            "Enter lineI am oke\n",
            "Enter 'y' to continue writting  & 'n' to stop writtingn\n",
            "No of words ending with e are  2\n"
          ]
        }
      ],
      "source": [
        "# 2. Write a python script to continue writing\n",
        "#to a file until user enters choice as y\n",
        "# and then on user input n stop writing\n",
        "#and read the file and\n",
        "#count words in the text file those are ending with alphabet \"e\".\n",
        "\n",
        "ch='y'\n",
        "f = open('pgm2.txt', 'w')\n",
        "while ch=='y':\n",
        "    l = input('Enter line')\n",
        "    f.write(l+\"\\n\")\n",
        "    ch = input('Enter \\'y\\' to continue writting  & \\'n\\' to stop writting')\n",
        "f.close()\n",
        "\n",
        "f = open('pgm2.txt', 'r')\n",
        "words = f.read().split()\n",
        "c=0\n",
        "for w in words:\n",
        "    if w[-1]=='e':\n",
        "        c+=1\n",
        "f.close()\n",
        "print(\"No of words ending with e are \",c)"
      ]
    },
    {
      "cell_type": "code",
      "execution_count": null,
      "id": "67f50d5a",
      "metadata": {
        "id": "67f50d5a",
        "outputId": "51f3fa3a-48d8-4e62-bbfa-a77a6417039a"
      },
      "outputs": [
        {
          "name": "stdout",
          "output_type": "stream",
          "text": [
            "No of lines not starting with 'T'= 2\n"
          ]
        }
      ],
      "source": [
        "#3.Write a python script to count the number of lines from a text file\n",
        "#which is not starting with an alphabet \"T\"\n",
        "file = open(\"divyesh.txt\",\"r\")\n",
        "c=0\n",
        "for line in file:\n",
        "    if line[0] != 'T':\n",
        "        c+= 1\n",
        "file.close()\n",
        "print(\"No of lines not starting with 'T'=\",c)"
      ]
    },
    {
      "cell_type": "code",
      "execution_count": null,
      "id": "b834802e",
      "metadata": {
        "id": "b834802e",
        "outputId": "2830eafd-f896-456b-ed7d-3f028432de9e"
      },
      "outputs": [
        {
          "name": "stdout",
          "output_type": "stream",
          "text": [
            "No of chars 45\n"
          ]
        }
      ],
      "source": [
        "#3.No of characters...\n",
        "file = open(r\"pgm3.txt\",\"r\")\n",
        "c=0\n",
        "for line in file:\n",
        "    c=c+len(line)\n",
        "file.close()\n",
        "print(\"No of chars\",c)"
      ]
    },
    {
      "cell_type": "code",
      "execution_count": null,
      "id": "fab4e8bb",
      "metadata": {
        "id": "fab4e8bb",
        "outputId": "4c7c5f88-375b-4f79-81f6-009756bf91db"
      },
      "outputs": [
        {
          "name": "stdout",
          "output_type": "stream",
          "text": [
            "Enter line no to delete3\n"
          ]
        }
      ],
      "source": [
        "#4. Write a python script to delete the specified line\n",
        "#giving the line number from the text file.\n",
        "\n",
        "fr = open('divyesh.txt', 'r')\n",
        "lines = fr.readlines()\n",
        "f.close()\n",
        "p=1\n",
        "\n",
        "fw = open('divyesh.txt', 'w')\n",
        "n=int(input('Enter line no to delete'))\n",
        "for line in lines:\n",
        "    if p != n:\n",
        "        fw.write(line)\n",
        "    p += 1\n",
        "        #print(\"Deleted\")\n",
        "fw.close()"
      ]
    },
    {
      "cell_type": "code",
      "execution_count": null,
      "id": "ff91d086",
      "metadata": {
        "id": "ff91d086",
        "outputId": "8bd6e744-1105-4835-cd3f-ed878bd6f81e"
      },
      "outputs": [
        {
          "name": "stdout",
          "output_type": "stream",
          "text": [
            "0\n",
            "16\n",
            "is expt 9\n",
            "\n"
          ]
        }
      ],
      "source": [
        "# 5.Program to set file offsets with seek() and tell() functions in python\n",
        "# tell() returns the current position of the file pointer from the beginning of the file.\n",
        "# f.tell()\n",
        "#seekg() to move the file pointer to another position in the file.\n",
        "# f.seek(offset, fromwhere)\n",
        "#fromwhere (0,1,2)\n",
        "#0 :beginning of file\n",
        "#1 :current position of file\n",
        "#2 :end of file\n",
        "fr = open('pgm3.txt', 'r')\n",
        "print(fr.tell())\n",
        "lines = fr.read()\n",
        "print(fr.tell())\n",
        "fr.seek(5)\n",
        "print(fr.read())\n",
        "#fr.seek(4,1)\n",
        "#print(fr.read())"
      ]
    },
    {
      "cell_type": "code",
      "execution_count": null,
      "id": "210d3764",
      "metadata": {
        "id": "210d3764"
      },
      "outputs": [],
      "source": []
    }
  ],
  "metadata": {
    "kernelspec": {
      "display_name": "Python 3 (ipykernel)",
      "language": "python",
      "name": "python3"
    },
    "language_info": {
      "codemirror_mode": {
        "name": "ipython",
        "version": 3
      },
      "file_extension": ".py",
      "mimetype": "text/x-python",
      "name": "python",
      "nbconvert_exporter": "python",
      "pygments_lexer": "ipython3",
      "version": "3.9.12"
    },
    "colab": {
      "provenance": [],
      "include_colab_link": true
    }
  },
  "nbformat": 4,
  "nbformat_minor": 5
}