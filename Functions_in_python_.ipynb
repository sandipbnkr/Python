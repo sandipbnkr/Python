{
  "cells": [
    {
      "cell_type": "markdown",
      "metadata": {
        "id": "view-in-github",
        "colab_type": "text"
      },
      "source": [
        "<a href=\"https://colab.research.google.com/github/sandipbnkr/Python/blob/main/Functions_in_python_.ipynb\" target=\"_parent\"><img src=\"https://colab.research.google.com/assets/colab-badge.svg\" alt=\"Open In Colab\"/></a>"
      ]
    },
    {
      "cell_type": "markdown",
      "metadata": {
        "id": "weDpp53moDTH"
      },
      "source": [
        "*italicized text*# **Functions : User Defined and Built in Functions in python **"
      ]
    },
    {
      "cell_type": "markdown",
      "metadata": {
        "id": "YyPrFBfTpJNN"
      },
      "source": [
        "*   Functions are sub program\n",
        "*   functions are used to perform a specific task\n",
        "*   If there are several tasks, one can write multiple functions\n",
        "*   In Python, interpreter creates an object of function internally.\n",
        "*   When we define function inside a class, it is called as a method.\n",
        "*   'def' keyword is used to define function\n",
        "*   Recurion:-function have call to itself\n",
        "\n",
        "\n",
        "\n",
        "\n",
        "\n",
        "\n",
        "\n"
      ]
    },
    {
      "cell_type": "markdown",
      "metadata": {
        "id": "uVkJfeCWpI2i"
      },
      "source": [
        "**Syntax of Function Definition**"
      ]
    },
    {
      "cell_type": "markdown",
      "metadata": {
        "id": "1IDPzsNhsWsP"
      },
      "source": [
        "def function_name(parameter list):\n",
        "\n",
        "____statements"
      ]
    },
    {
      "cell_type": "markdown",
      "metadata": {
        "id": "1GcHMkI8swT1"
      },
      "source": [
        "\n",
        "\n",
        "*   Functions can not executes its own\n",
        "*   It's need to call/invoke when required\n",
        "*   Function is called/invoked using its name and passing values if any.\n",
        "\n",
        "\n",
        "\n"
      ]
    },
    {
      "cell_type": "markdown",
      "metadata": {
        "id": "HN2sYi_stO5R"
      },
      "source": [
        "**Syntax of function call**\n",
        "\n",
        "function_name(value/values)"
      ]
    },
    {
      "cell_type": "markdown",
      "metadata": {
        "id": "0rr7i47ntbUs"
      },
      "source": [
        "*   It is also possible to return values back to the calling place from function\n",
        "*   return is used to send values back to calling place\n",
        "\n"
      ]
    },
    {
      "cell_type": "markdown",
      "metadata": {
        "id": "xY2ECxlwvAVJ"
      },
      "source": [
        "**Syntax of returning value/s**\n",
        "\n",
        "return value/values"
      ]
    },
    {
      "cell_type": "markdown",
      "metadata": {
        "id": "hlAncvjIyKP2"
      },
      "source": [
        "**Advantages of User Defined Function**\n",
        "1.   Reusability\n",
        "2.   Easy to read and write\n",
        "3.   Easy to debug & maintain\n",
        "4.   Work distribution is possible\n",
        "5.   Saves development time\n",
        "\n"
      ]
    },
    {
      "cell_type": "code",
      "execution_count": null,
      "metadata": {
        "colab": {
          "base_uri": "https://localhost:8080/"
        },
        "id": "zAE-m-XLoHi7",
        "outputId": "c15754d3-2451-4d60-8b7e-99d721be6ecc"
      },
      "outputs": [
        {
          "name": "stdout",
          "output_type": "stream",
          "text": [
            "Welcome...\n"
          ]
        }
      ],
      "source": [
        "# Write a function to diaply message\n",
        "def msg():\n",
        "    print('Welcome...')\n",
        "msg()\n"
      ]
    },
    {
      "cell_type": "code",
      "execution_count": 12,
      "metadata": {
        "colab": {
          "base_uri": "https://localhost:8080/"
        },
        "id": "F2HEvls0y0Ir",
        "outputId": "f3144e09-d4f0-4c74-9950-e9b49d62a8cf"
      },
      "outputs": [
        {
          "output_type": "stream",
          "name": "stdout",
          "text": [
            "before swapping a= 1  b= 2\n",
            "after swapping a= 2  b= 1\n",
            "before swapping a= Navi Mumbai  b= Mumbai\n",
            "after swapping a= Mumbai  b= Navi Mumbai\n",
            "before swapping a= [1, 2, 3]  b= [4, 5, 6]\n",
            "after swapping a= [4, 5, 6]  b= [1, 2, 3]\n"
          ]
        }
      ],
      "source": [
        "# Write a function to exchange values of any data type\n",
        "def swap(a,b):\n",
        "    print(\"before swapping a=\",a,\" b=\",b)\n",
        "    t=a\n",
        "    a=b\n",
        "    b=t\n",
        "    print(\"after swapping a=\",a,\" b=\",b)\n",
        "\n",
        "swap(1,2)\n",
        "swap(\"Navi Mumbai\",\"Mumbai\")\n",
        "x=[1,2,3]\n",
        "y=[4,5,6]\n",
        "swap(x,y)"
      ]
    },
    {
      "cell_type": "code",
      "execution_count": null,
      "metadata": {
        "id": "2xmHriRysy42",
        "outputId": "52d696dd-05ca-4763-9a37-4dc1cccd1f93"
      },
      "outputs": [
        {
          "name": "stdout",
          "output_type": "stream",
          "text": [
            "Hi\n"
          ]
        }
      ],
      "source": [
        "a=b=c=d=e=f=g=1\n",
        "print(\"Hi\")#a,b,c,d,e,f,g)\"\""
      ]
    },
    {
      "cell_type": "code",
      "execution_count": null,
      "metadata": {
        "colab": {
          "base_uri": "https://localhost:8080/"
        },
        "id": "ux2wRYvdy5P-",
        "outputId": "8e494204-bcfc-4fc0-a853-dd0166adb981"
      },
      "outputs": [
        {
          "name": "stdout",
          "output_type": "stream",
          "text": [
            "enter no11\n",
            "enter no22\n",
            "2\n"
          ]
        }
      ],
      "source": [
        "# Write a function to check largest of two numbers\n",
        "def max2(a,b):\n",
        "    if a>b :\n",
        "        print(a)\n",
        "    else:\n",
        "        print(b)\n",
        "x=input(\"enter no1\")\n",
        "y=input('enter no2')\n",
        "max2(x,y)"
      ]
    },
    {
      "cell_type": "markdown",
      "metadata": {
        "id": "8lLAxBXJzM57"
      },
      "source": [
        "**Returning values from function**"
      ]
    },
    {
      "cell_type": "code",
      "execution_count": null,
      "metadata": {
        "colab": {
          "base_uri": "https://localhost:8080/"
        },
        "id": "y5FxMhqyzDDh",
        "outputId": "754cbb56-7dfa-4947-9e89-70f39cb22c63"
      },
      "outputs": [
        {
          "name": "stdout",
          "output_type": "stream",
          "text": [
            "Hi\n",
            "None\n"
          ]
        }
      ],
      "source": [
        "# Returning none - if return is not used in function, it will send None\n",
        "def test():\n",
        "    print('Hi')\n",
        "x=test()\n",
        "print(x)"
      ]
    },
    {
      "cell_type": "code",
      "execution_count": null,
      "metadata": {
        "colab": {
          "base_uri": "https://localhost:8080/"
        },
        "id": "aRkF8bwTzZGX",
        "outputId": "3fbd56e4-d0f9-4011-83a1-4a259ae9f250"
      },
      "outputs": [
        {
          "name": "stdout",
          "output_type": "stream",
          "text": [
            "enter no15\n",
            "enter no26\n",
            "largest no is 6\n"
          ]
        }
      ],
      "source": [
        "# Returning only one value\n",
        "def max2(a,b):\n",
        "    if a>b :\n",
        "        return a\n",
        "    else:\n",
        "        return b\n",
        "x=input(\"enter no1\")\n",
        "y=input('enter no2')\n",
        "mx=max2(x,y)\n",
        "print(\"largest no is\", mx)"
      ]
    },
    {
      "cell_type": "code",
      "execution_count": null,
      "metadata": {
        "colab": {
          "base_uri": "https://localhost:8080/"
        },
        "id": "Ry8_Mj4BzdPn",
        "outputId": "8af40cdc-b164-415a-c2c9-531dcb413c11"
      },
      "outputs": [
        {
          "name": "stdout",
          "output_type": "stream",
          "text": [
            "enter no15\n",
            "enter no27\n",
            "before swapping x= 5  y= 7\n",
            "after swapping x= 7  b= 5\n"
          ]
        }
      ],
      "source": [
        "# Returning Multiple values\n",
        "def swap(a,b):\n",
        "    return b,a\n",
        "\n",
        "x=input(\"enter no1\")\n",
        "y=input('enter no2')\n",
        "print(\"before swapping x=\",x,\" y=\",y)\n",
        "x,y=swap(x,y)\n",
        "print(\"after swapping x=\",x,\" b=\",y)"
      ]
    },
    {
      "cell_type": "code",
      "execution_count": null,
      "metadata": {
        "colab": {
          "base_uri": "https://localhost:8080/"
        },
        "id": "8qQRT6CB0Tv8",
        "outputId": "bca1b7fd-a477-4433-9ccf-44f88cc02207"
      },
      "outputs": [
        {
          "name": "stdout",
          "output_type": "stream",
          "text": [
            "24\n"
          ]
        }
      ],
      "source": [
        "# Recursion - to find factorial of a number\n",
        "def fact(n):\n",
        "    if n==2:\n",
        "        return 2\n",
        "    return n*fact(n-1)\n",
        "\n",
        "f=fact(4)\n",
        "print(f)"
      ]
    },
    {
      "cell_type": "markdown",
      "metadata": {
        "id": "J5MYc2vhzlNV"
      },
      "source": [
        "**Arguments**\n",
        "\n",
        "*   Formal Arguments/Parameters\n",
        "*   Actual Arguments/Parameters\n",
        "\n",
        "*Following types of arguments supported by functions*\n",
        "1.   Positional Arguments\n",
        "2.   Keyword/named Arguments\n",
        "3.   Default Arguments\n",
        "4.   Variable Length Arguments\n",
        "\n",
        ">*   function (farg,*args)\n",
        "*   function(**kwargs)\n",
        "\n"
      ]
    },
    {
      "cell_type": "code",
      "execution_count": null,
      "metadata": {
        "colab": {
          "base_uri": "https://localhost:8080/"
        },
        "id": "yoLj_XL4zgvD",
        "outputId": "dca5833e-aec2-4311-91d5-b575ee7c5f6d"
      },
      "outputs": [
        {
          "name": "stdout",
          "output_type": "stream",
          "text": [
            "1 2 3 4\n"
          ]
        }
      ],
      "source": [
        "# Example of Positional Arguments\n",
        "def test(a,b,c,d):\n",
        "    print(a,b,c,d)\n",
        "test(1,2,3,4)"
      ]
    },
    {
      "cell_type": "code",
      "execution_count": null,
      "metadata": {
        "colab": {
          "base_uri": "https://localhost:8080/"
        },
        "id": "YrhTwvsi0bb_",
        "outputId": "6a89b391-0bcf-400c-f90b-5aade518b7d1"
      },
      "outputs": [
        {
          "name": "stdout",
          "output_type": "stream",
          "text": [
            "3 2 4 1\n"
          ]
        }
      ],
      "source": [
        "# Example of Keyword Arguments\n",
        "def test(a,b,c,d):\n",
        "    print(a,b,c,d)\n",
        "test(d=1,b=2,a=3,c=4)"
      ]
    },
    {
      "cell_type": "code",
      "execution_count": null,
      "metadata": {
        "colab": {
          "base_uri": "https://localhost:8080/"
        },
        "id": "RJLHwAXW0fja",
        "outputId": "eb6a5aff-f3a6-4c42-e168-4bf9727f2a83"
      },
      "outputs": [
        {
          "name": "stdout",
          "output_type": "stream",
          "text": [
            "40 30 20 10\n",
            "100 30 20 10\n",
            "100 200 20 10\n",
            "100 200 300 10\n",
            "100 200 300 400\n"
          ]
        },
        {
          "ename": "TypeError",
          "evalue": "ignored",
          "output_type": "error",
          "traceback": [
            "\u001b[0;31m---------------------------------------------------------------------------\u001b[0m",
            "\u001b[0;31mTypeError\u001b[0m                                 Traceback (most recent call last)",
            "\u001b[0;32m<ipython-input-11-21ac8fd6c7b9>\u001b[0m in \u001b[0;36m<module>\u001b[0;34m()\u001b[0m\n\u001b[1;32m      7\u001b[0m \u001b[0mtest\u001b[0m\u001b[0;34m(\u001b[0m\u001b[0;36m100\u001b[0m\u001b[0;34m,\u001b[0m\u001b[0;36m200\u001b[0m\u001b[0;34m,\u001b[0m\u001b[0;36m300\u001b[0m\u001b[0;34m)\u001b[0m\u001b[0;34m\u001b[0m\u001b[0;34m\u001b[0m\u001b[0m\n\u001b[1;32m      8\u001b[0m \u001b[0mtest\u001b[0m\u001b[0;34m(\u001b[0m\u001b[0;36m100\u001b[0m\u001b[0;34m,\u001b[0m\u001b[0;36m200\u001b[0m\u001b[0;34m,\u001b[0m\u001b[0;36m300\u001b[0m\u001b[0;34m,\u001b[0m\u001b[0;36m400\u001b[0m\u001b[0;34m)\u001b[0m\u001b[0;34m\u001b[0m\u001b[0;34m\u001b[0m\u001b[0m\n\u001b[0;32m----> 9\u001b[0;31m \u001b[0mtest\u001b[0m\u001b[0;34m(\u001b[0m\u001b[0;36m100\u001b[0m\u001b[0;34m,\u001b[0m\u001b[0;36m200\u001b[0m\u001b[0;34m,\u001b[0m\u001b[0;36m300\u001b[0m\u001b[0;34m,\u001b[0m\u001b[0;36m400\u001b[0m\u001b[0;34m,\u001b[0m\u001b[0;36m6\u001b[0m\u001b[0;34m)\u001b[0m\u001b[0;34m\u001b[0m\u001b[0;34m\u001b[0m\u001b[0m\n\u001b[0m",
            "\u001b[0;31mTypeError\u001b[0m: test() takes from 0 to 4 positional arguments but 5 were given"
          ]
        }
      ],
      "source": [
        "# Example of Default Arguments\n",
        "def test(a=40,b=30,c=20,d=10):\n",
        "    print(a,b,c,d)\n",
        "test()\n",
        "test(100)\n",
        "test(100,200)\n",
        "test(100,200,300)\n",
        "test(100,200,300,400)"
      ]
    },
    {
      "cell_type": "code",
      "execution_count": null,
      "metadata": {
        "id": "NYo13Hp0sy46",
        "outputId": "8fcfe089-5f1e-4777-ee54-4b036838ecd5"
      },
      "outputs": [
        {
          "name": "stdout",
          "output_type": "stream",
          "text": [
            "2\n"
          ]
        }
      ],
      "source": [
        "def foo(a):\n",
        "    print(\"1\")\n",
        "def foo(a,b):\n",
        "    print(\"2\")\n",
        "foo(10,20)\n"
      ]
    },
    {
      "cell_type": "code",
      "execution_count": null,
      "metadata": {
        "colab": {
          "base_uri": "https://localhost:8080/"
        },
        "id": "cIE2tEUZ00xv",
        "outputId": "4ad735f5-fdd6-4d4a-d5ad-b386a3c2b081"
      },
      "outputs": [
        {
          "name": "stdout",
          "output_type": "stream",
          "text": [
            "1\n",
            "2\n",
            "5\n",
            "787\n"
          ]
        }
      ],
      "source": [
        "# Example of Varisble Length Argument as tuple\n",
        "def maximum(*args):\n",
        "    print(max(args))\n",
        "\n",
        "maximum(1)\n",
        "maximum(1,2)\n",
        "maximum(1,2,3,4,5,5)\n",
        "maximum(1,3,4,5,6,7,787,8,89,9,9,9,9,9,10)"
      ]
    },
    {
      "cell_type": "code",
      "execution_count": null,
      "metadata": {
        "colab": {
          "base_uri": "https://localhost:8080/"
        },
        "id": "EjRD4NS905z8",
        "outputId": "15097c3a-8c7e-42b0-b776-e346d9d03c34"
      },
      "outputs": [
        {
          "name": "stdout",
          "output_type": "stream",
          "text": [
            "{'a': '1'}\n",
            "{'a': 2, 'b': 5}\n",
            "{'a': 2, 'b': 5, 'c': 2, 'd': 5}\n"
          ]
        }
      ],
      "source": [
        "# Example of Keword variable length arguments\n",
        "def fun(**kwargs):\n",
        "    print(kwargs)\n",
        "fun(a='1')\n",
        "fun(a=2,b=5)\n",
        "fun(a=2,b=5,c=2,d=5)"
      ]
    },
    {
      "cell_type": "code",
      "execution_count": null,
      "metadata": {
        "id": "5cyK9LzWPRHe",
        "colab": {
          "base_uri": "https://localhost:8080/"
        },
        "outputId": "e24c810c-3bf7-48f8-883e-8b9d4261ff94"
      },
      "outputs": [
        {
          "output_type": "stream",
          "name": "stdout",
          "text": [
            "1600 is leap year\n"
          ]
        }
      ],
      "source": [
        "''' Implement program using user defined function to check year is leap or not. A year is a leap if it is divisible by 4 and centennial years (years divisible by 100) are leap years only when they are divisible by 400.'''\n",
        "if (year % 400 == 0) and (year % 100 == 0):\n",
        "    print(\"{0} is a leap year\".format(year))\n",
        "\n",
        "# not divided by 100 means not a century year\n",
        "# year divided by 4 is a leap year\n",
        "elif (year % 4 ==0) and (year % 100 != 0):\n",
        "    print(\"{0} is a leap year\".format(year))\n",
        "\n",
        "# if not divided by both 400 (century year) and 4 (not century year)\n",
        "# year is not leap year\n",
        "else:\n",
        "    print(\"{0} is not a leap year\".format(year))\n",
        "\n",
        "leap_year(1600)\n"
      ]
    },
    {
      "cell_type": "code",
      "source": [
        "#Define a function ExtractEven(List) to return all even number from a list. Example l1[1,2,3,4,5,6] method should return [2,4,6].\n",
        "\n",
        "def check_even(number):\n",
        "    if number % 2 == 0:\n",
        "          return True\n",
        "    return False\n",
        "numbers = [1, 2, 3, 4, 5, 6, 7, 8, 9, 10]\n",
        "# if an element passed to check_even() returns True, select it\n",
        "even_numbers_iterator = filter(check_even, numbers)\n",
        "# converting to list\n",
        "even_numbers = list(even_numbers_iterator)\n",
        "print(even_numbers)\n"
      ],
      "metadata": {
        "colab": {
          "base_uri": "https://localhost:8080/"
        },
        "id": "XF9AQcxD0qNt",
        "outputId": "68466fc9-7a4e-4660-e0e5-990839216f93"
      },
      "execution_count": null,
      "outputs": [
        {
          "output_type": "stream",
          "name": "stdout",
          "text": [
            "[2, 4, 6, 8, 10]\n"
          ]
        }
      ]
    },
    {
      "cell_type": "code",
      "source": [
        "#Write a function that returns add, sub, mul and division of two numbers.\n",
        "def arithmetic(a,b,c):\n",
        "  if c=='+':\n",
        "    print(\"Addition of {0} and {1} is {2} \".format(a,b,a+b))\n",
        "  if c=='-':\n",
        "    print(\"Subtraction of {0} and {1} is {2} \".format(a,b,a-b))\n",
        "  if c=='*':\n",
        "    print(\"Multiplication of {0} and {1} is {2} \".format(a,b,a*b))\n",
        "  if c=='/':\n",
        "    print(\"Division of {0} and {1} is {2} \".format(a,b,a/b))\n",
        "\n",
        "arithmetic(10,20,'/')"
      ],
      "metadata": {
        "id": "Ok2YUvr-69zL",
        "colab": {
          "base_uri": "https://localhost:8080/"
        },
        "outputId": "d73b926d-40fa-4dd2-a40d-e962bf45a9ae"
      },
      "execution_count": 15,
      "outputs": [
        {
          "output_type": "stream",
          "name": "stdout",
          "text": [
            "Division of 10 and 20 is 0.5 \n"
          ]
        }
      ]
    },
    {
      "cell_type": "code",
      "source": [
        "#Define a user defined function to find area of circle or triangle. If one parameter is passed the given function finds the area of circle, if two parameters are passed the same function finds the area of triangle. You have to defined only one parameterized function which accepts either one parameters or two parameters to find area.\n",
        "def area(a,b=1):\n",
        "  if b==1:\n",
        "    ans=3.14*a*a\n",
        "    print(\"Area of circle is\",ans)\n",
        "  else:\n",
        "    ans=a*b\n",
        "    print(\"Area of Traingle is\",ans)\n",
        "\n",
        "area(10,21)\n"
      ],
      "metadata": {
        "colab": {
          "base_uri": "https://localhost:8080/"
        },
        "id": "Ih__MxMd7Fip",
        "outputId": "0aa299b1-af9d-402a-e48e-12a477e4a3ad"
      },
      "execution_count": null,
      "outputs": [
        {
          "output_type": "stream",
          "name": "stdout",
          "text": [
            "Area of Traingle is 210\n"
          ]
        }
      ]
    },
    {
      "cell_type": "code",
      "source": [],
      "metadata": {
        "id": "p04hRG5a1aZq"
      },
      "execution_count": null,
      "outputs": []
    },
    {
      "cell_type": "code",
      "source": [
        "#largest number\n",
        "def largest(*tup):\n",
        "  larg=0\n",
        "  for i in tup:\n",
        "    if i>larg:\n",
        "      larg=i\n",
        "  print(\"Largest=\",larg)\n",
        "largest(12,33,44,66,7,88,9)"
      ],
      "metadata": {
        "colab": {
          "base_uri": "https://localhost:8080/"
        },
        "id": "2xcNt2Jo-6LU",
        "outputId": "c0893f48-a65c-4e56-b202-768ec04f1413"
      },
      "execution_count": null,
      "outputs": [
        {
          "output_type": "stream",
          "name": "stdout",
          "text": [
            "Largest= 88\n"
          ]
        }
      ]
    },
    {
      "cell_type": "code",
      "source": [
        "#**kwargs Optional Arbitrary Arguments\n",
        "def percent(math, sci, **optional):\n",
        "   print (\"maths:\", math)\n",
        "   print (\"sci:\", sci)\n",
        "   s=math+sci\n",
        "   for k,v in optional.items():\n",
        "      print (\"{}:{}\".format(k,v))\n",
        "      s=s+v\n",
        "   return s/(len(optional)+2)\n",
        "result=percent(math=80, sci=75, Eng=70, Hist=65, Geo=72)\n",
        "print (\"percentage:\", result)\n"
      ],
      "metadata": {
        "id": "CnnVJ6pGC5F4"
      },
      "execution_count": null,
      "outputs": []
    },
    {
      "cell_type": "code",
      "source": [
        "#Write a program to print Fibonacci series upto n using recursion\n",
        "def fibonacci(n):\n",
        "    if(n <= 1):\n",
        "        return n\n",
        "    else:\n",
        "        return(fibonacci(n-1) + fibonacci(n-2))\n",
        "n = int(input(\"Enter number of terms:\"))\n",
        "print(\"Fibonacci sequence:\")\n",
        "for i in range(n):\n",
        "    print(fibonacci(i))\n"
      ],
      "metadata": {
        "id": "dV5ykXpz_F1V",
        "colab": {
          "base_uri": "https://localhost:8080/"
        },
        "outputId": "0e9553a9-9226-4fd0-b9a2-accd1bff6865"
      },
      "execution_count": 16,
      "outputs": [
        {
          "output_type": "stream",
          "name": "stdout",
          "text": [
            "Enter number of terms:5\n",
            "Fibonacci sequence:\n",
            "0\n",
            "1\n",
            "1\n",
            "2\n",
            "3\n"
          ]
        }
      ]
    },
    {
      "cell_type": "code",
      "source": [
        "# Write map function to return a list of numbers which are square of first 10 Fibonacci numbers.\n",
        "num = 10\n",
        "n1, n2 = 0, 1\n",
        "l1=[0,1]\n",
        "print(\"Fibonacci Series:\", n1, n2, end=\" \")\n",
        "for i in range(2, num):\n",
        "    n3 = n1 + n2\n",
        "    n1 = n2\n",
        "    n2 = n3\n",
        "    l1.append(n3)\n",
        "\n",
        "ans=list(map(lambda x:x*x,l1))\n",
        "print(ans)"
      ],
      "metadata": {
        "colab": {
          "base_uri": "https://localhost:8080/"
        },
        "id": "xxwPxFHVTvQI",
        "outputId": "a730b4d9-3c8c-4b55-c200-3d2d9b1481d0"
      },
      "execution_count": 28,
      "outputs": [
        {
          "output_type": "stream",
          "name": "stdout",
          "text": [
            "Fibonacci Series: 0 1 [0, 1, 1, 4, 9, 25, 64, 169, 441, 1156]\n"
          ]
        }
      ]
    },
    {
      "cell_type": "code",
      "source": [
        "# Write a lambda function for adding 26 to its argument, also create a lambda function that multiplies argument x with argument y and print the result.\n",
        "ans=map(lambda x:x+26,l1)\n",
        "print(list(ans))\n",
        "\n",
        "ans=lambda x,y:x*y\n",
        "print(ans(10,20))"
      ],
      "metadata": {
        "colab": {
          "base_uri": "https://localhost:8080/"
        },
        "id": "maCtAcsTUSLu",
        "outputId": "5dfdcada-796f-45c3-9402-df26188088bd"
      },
      "execution_count": 34,
      "outputs": [
        {
          "output_type": "stream",
          "name": "stdout",
          "text": [
            "[26, 27, 27, 28, 29, 31, 34, 39, 47, 60]\n",
            "200\n"
          ]
        }
      ]
    },
    {
      "cell_type": "code",
      "source": [
        "'''A twitter database is given in which we have username and tweets.\n",
        "users = [ {\"username\": 'seema', \"tweets\": [\"i love chocolate\", \"i am a student\"]},\n",
        "{\"username\": 'arush', \"tweets\": []}, {\"username\": 'kumal', \"tweets\": [\"India\", \"Python\"]}, {\"username\": 'sam', \"tweets\": []}, {\"username\": 'lokesh', \"tweets\": [\"i am good\"]}, ]\n",
        "\n",
        "i) Filter out Users which don’t have any tweets/Inactive Users\n",
        "ii)  Filter inactive users with just username in uppercase.\n",
        "iii)  Return a new list with the string “your name is” + name, but only if length of name is bigger than 4 using map , filter and Lambda\n",
        "\n",
        "names=['Rohan','Rhea','bob','to']\n",
        "Output:['your name is Rohan', 'your name is Rhea']\n",
        "'''"
      ],
      "metadata": {
        "id": "75l60yWniUFb"
      },
      "execution_count": null,
      "outputs": []
    },
    {
      "cell_type": "code",
      "source": [
        "users = [ {\"username\": 'seema', \"tweets\": [\"i love chocolate\", \"i am a student\"]},\n",
        "{\"username\": 'arush', \"tweets\": []}, {\"username\": 'kumal', \"tweets\": [\"India\", \"Python\"]}, {\"username\": 'sam', \"tweets\": []}, {\"username\": 'lokesh', \"tweets\": [\"i am good\"]}, ]\n",
        "users"
      ],
      "metadata": {
        "colab": {
          "base_uri": "https://localhost:8080/"
        },
        "id": "bxNLQryExmht",
        "outputId": "87bc34f5-3134-4e25-a1f2-306f7b98e215"
      },
      "execution_count": 35,
      "outputs": [
        {
          "output_type": "execute_result",
          "data": {
            "text/plain": [
              "[{'username': 'seema', 'tweets': ['i love chocolate', 'i am a student']},\n",
              " {'username': 'arush', 'tweets': []},\n",
              " {'username': 'kumal', 'tweets': ['India', 'Python']},\n",
              " {'username': 'sam', 'tweets': []},\n",
              " {'username': 'lokesh', 'tweets': ['i am good']}]"
            ]
          },
          "metadata": {},
          "execution_count": 35
        }
      ]
    },
    {
      "cell_type": "code",
      "source": [
        "inactive_users = list(filter(lambda a:not a['tweets'], users))\n",
        "print(inactive_users)"
      ],
      "metadata": {
        "colab": {
          "base_uri": "https://localhost:8080/"
        },
        "id": "UxXp3_ZuxoZ0",
        "outputId": "de69194b-1b33-4b51-f241-f4a4bdf22018"
      },
      "execution_count": 38,
      "outputs": [
        {
          "output_type": "stream",
          "name": "stdout",
          "text": [
            "[{'username': 'arush', 'tweets': []}, {'username': 'sam', 'tweets': []}]\n"
          ]
        }
      ]
    },
    {
      "cell_type": "code",
      "source": [
        "inactive_users=list(map(lambda x:x[\"username\"].upper(),filter(lambda a:not a['tweets'], users)))\n",
        "print(inactive_users)"
      ],
      "metadata": {
        "colab": {
          "base_uri": "https://localhost:8080/"
        },
        "id": "c9HfM-8ixr7T",
        "outputId": "d226f60d-4080-4246-c8b1-9a6caf14ec07"
      },
      "execution_count": 39,
      "outputs": [
        {
          "output_type": "stream",
          "name": "stdout",
          "text": [
            "['ARUSH', 'SAM']\n"
          ]
        }
      ]
    },
    {
      "cell_type": "code",
      "source": [
        "names=['lokesh','lassie','bob','to']\n",
        "new=list(map(lambda name:f\"your name is {name}\",filter(lambda x:len(x)>4,names)))\n",
        "print(new)"
      ],
      "metadata": {
        "colab": {
          "base_uri": "https://localhost:8080/"
        },
        "id": "rUJmLpEAyfbF",
        "outputId": "a867340e-3c74-41ae-fb63-ca8defa43105"
      },
      "execution_count": 41,
      "outputs": [
        {
          "output_type": "stream",
          "name": "stdout",
          "text": [
            "['your name is lokesh', 'your name is lassie']\n"
          ]
        }
      ]
    },
    {
      "cell_type": "code",
      "source": [
        "# Python: Lambda,Map,Filter,Reduce and Zip function excercise\n",
        "\n",
        "add=lambda a,b,c: print(a+b+c)\n",
        "add(4, 5, 1)"
      ],
      "metadata": {
        "colab": {
          "base_uri": "https://localhost:8080/"
        },
        "id": "6bf55qV9ypz6",
        "outputId": "ea485806-6f25-415a-eda2-e999505fbc5d"
      },
      "execution_count": 42,
      "outputs": [
        {
          "output_type": "stream",
          "name": "stdout",
          "text": [
            "10\n"
          ]
        }
      ]
    },
    {
      "cell_type": "code",
      "source": [
        "find_max=lambda a,b,c:a if a>b and a>c else (b if b>a and b>c else c)\n",
        "print(find_max(6,15,1))"
      ],
      "metadata": {
        "colab": {
          "base_uri": "https://localhost:8080/"
        },
        "id": "RxfYXWvwzXx5",
        "outputId": "7027a199-1fe0-4558-c3b6-429d95507c68"
      },
      "execution_count": 44,
      "outputs": [
        {
          "output_type": "stream",
          "name": "stdout",
          "text": [
            "15\n"
          ]
        }
      ]
    },
    {
      "cell_type": "markdown",
      "source": [
        "![image.png](data:image/png;base64,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)"
      ],
      "metadata": {
        "id": "50byvX7tzpfY"
      }
    },
    {
      "cell_type": "code",
      "source": [
        "nums = [1, 2, 3, 4, 5]\n",
        "square = list(map(lambda x: x**x, nums))\n",
        "print(square)"
      ],
      "metadata": {
        "colab": {
          "base_uri": "https://localhost:8080/"
        },
        "id": "yfo4tKGLzd25",
        "outputId": "c727648e-2e42-4ade-c1bb-4db4466bc5e3"
      },
      "execution_count": 45,
      "outputs": [
        {
          "output_type": "stream",
          "name": "stdout",
          "text": [
            "[1, 4, 27, 256, 3125]\n"
          ]
        }
      ]
    },
    {
      "cell_type": "code",
      "source": [
        "#uppercase\n",
        "people = [\"sandip\", \"bankar\", \"nmims\", \"faculty\"]\n",
        "up = list(map(lambda x: x.upper(), people))\n",
        "print(up)"
      ],
      "metadata": {
        "colab": {
          "base_uri": "https://localhost:8080/"
        },
        "id": "CgaltDzLzwJN",
        "outputId": "bbc7753f-e26d-45f1-cc9b-d02d932d9a12"
      },
      "execution_count": 47,
      "outputs": [
        {
          "output_type": "stream",
          "name": "stdout",
          "text": [
            "['SANDIP', 'BANKAR', 'NMIMS', 'FACULTY']\n"
          ]
        }
      ]
    },
    {
      "cell_type": "code",
      "source": [
        "names = [\n",
        "    {'first': 'lokesh', 'last': 'sharma'},\n",
        "    {'first': 'Astha', 'last': 'verma'},\n",
        "    {'first': 'jiu', 'last': 'rai'}\n",
        " ]\n",
        "first_names = list(map(lambda x: x['first'], names))\n",
        "print(first_names)"
      ],
      "metadata": {
        "colab": {
          "base_uri": "https://localhost:8080/"
        },
        "id": "q1w70xcvz1Mp",
        "outputId": "7993722e-71c6-489d-f5c3-f4efd0ad6237"
      },
      "execution_count": 48,
      "outputs": [
        {
          "output_type": "stream",
          "name": "stdout",
          "text": [
            "['lokesh', 'Astha', 'jiu']\n"
          ]
        }
      ]
    },
    {
      "cell_type": "markdown",
      "source": [
        "![image.png](data:image/png;base64,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)"
      ],
      "metadata": {
        "id": "uF0BB1X50aUa"
      }
    },
    {
      "cell_type": "code",
      "source": [
        "seq = [0, 1, 2, 3, 4, 5]\n",
        "\n",
        "# result contains odd numbers of the list\n",
        "result = filter(lambda x: x % 2, seq)\n",
        "print(list(result))\n",
        "\n",
        "# result contains even numbers of the list\n",
        "result = filter(lambda x: x % 2 == 0, seq)\n",
        "print(list(result))"
      ],
      "metadata": {
        "colab": {
          "base_uri": "https://localhost:8080/"
        },
        "id": "N95u0Pfk0Voy",
        "outputId": "fc049008-bba4-4674-9e58-958620ef3b62"
      },
      "execution_count": 49,
      "outputs": [
        {
          "output_type": "stream",
          "name": "stdout",
          "text": [
            "[1, 3, 5]\n",
            "[0, 2, 4]\n"
          ]
        }
      ]
    },
    {
      "cell_type": "code",
      "source": [],
      "metadata": {
        "id": "tdA8U7kZ0hyj"
      },
      "execution_count": null,
      "outputs": []
    },
    {
      "cell_type": "markdown",
      "source": [
        "![image.png](data:image/png;base64,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)"
      ],
      "metadata": {
        "id": "UAErYfPC0pl3"
      }
    },
    {
      "cell_type": "code",
      "source": [
        "from functools import reduce\n",
        "seq=[2,3,4,5,6]\n",
        "multiply=reduce(lambda a,b:a*b,seq)\n",
        "print(multiply)"
      ],
      "metadata": {
        "colab": {
          "base_uri": "https://localhost:8080/"
        },
        "id": "z3dPhF0O0rbg",
        "outputId": "d17d4b23-e394-4d26-e95c-b1dd68597166"
      },
      "execution_count": 51,
      "outputs": [
        {
          "output_type": "stream",
          "name": "stdout",
          "text": [
            "720\n"
          ]
        }
      ]
    },
    {
      "cell_type": "markdown",
      "source": [
        "The zip() function take iterables (can be zero or more), makes iterator that aggregates elements based on the iterables passed, and returns an iterator of tuples."
      ],
      "metadata": {
        "id": "0SKjVxl31QUq"
      }
    },
    {
      "cell_type": "code",
      "source": [
        "name = [\"Manjeet\", \"Nikhil\", \"Shambhavi\"]\n",
        "roll_no = [4, 1, 3]\n",
        "marks = [40, 50, 60]\n",
        "\n",
        "mapped = zip(name, roll_no, marks)"
      ],
      "metadata": {
        "id": "AT75VkiA0yPM"
      },
      "execution_count": null,
      "outputs": []
    },
    {
      "cell_type": "code",
      "source": [
        "name = [\"Manjeet\", \"Nikhil\", \"Shambhavi\"]\n",
        "marks = [40, 50, 60]\n",
        "\n",
        "mapped = zip(name, marks)\n",
        "#print(dict(mapped))\n",
        "\n",
        "for i,j in mapped:\n",
        "  print(i,j)\n",
        "\n"
      ],
      "metadata": {
        "colab": {
          "base_uri": "https://localhost:8080/"
        },
        "id": "R2zp-HSt1WHe",
        "outputId": "e593a70c-31d2-464e-8461-094d527a23bd"
      },
      "execution_count": 58,
      "outputs": [
        {
          "output_type": "stream",
          "name": "stdout",
          "text": [
            "Manjeet 40\n",
            "Nikhil 50\n",
            "Shambhavi 60\n"
          ]
        }
      ]
    },
    {
      "cell_type": "code",
      "source": [],
      "metadata": {
        "id": "YMW-hC5a1gvV"
      },
      "execution_count": null,
      "outputs": []
    }
  ],
  "metadata": {
    "colab": {
      "collapsed_sections": [
        "weDpp53moDTH",
        "VC0jY2kr17lS",
        "kDZ0jqWWV4tE",
        "EYfPhRqZSEkZ",
        "PnH8cUDKTZYV",
        "dVpGF7EENeBb",
        "C6ARnbcRYdpu",
        "A744aGIDbaRh"
      ],
      "provenance": [],
      "include_colab_link": true
    },
    "kernelspec": {
      "display_name": "Python 3 (ipykernel)",
      "language": "python",
      "name": "python3"
    },
    "language_info": {
      "codemirror_mode": {
        "name": "ipython",
        "version": 3
      },
      "file_extension": ".py",
      "mimetype": "text/x-python",
      "name": "python",
      "nbconvert_exporter": "python",
      "pygments_lexer": "ipython3",
      "version": "3.9.12"
    }
  },
  "nbformat": 4,
  "nbformat_minor": 0
}