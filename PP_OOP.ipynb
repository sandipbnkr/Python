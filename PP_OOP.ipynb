{
  "cells": [
    {
      "cell_type": "markdown",
      "metadata": {
        "id": "view-in-github",
        "colab_type": "text"
      },
      "source": [
        "<a href=\"https://colab.research.google.com/github/sandipbnkr/Python/blob/main/PP_OOP.ipynb\" target=\"_parent\"><img src=\"https://colab.research.google.com/assets/colab-badge.svg\" alt=\"Open In Colab\"/></a>"
      ]
    },
    {
      "cell_type": "markdown",
      "source": [
        "**Object oriented programming in python**"
      ],
      "metadata": {
        "id": "vB_9Rm0c-wCa"
      },
      "id": "vB_9Rm0c-wCa"
    },
    {
      "cell_type": "code",
      "source": [
        "#Program to show use of class and Objects…\n",
        "class Student:\n",
        "  def __init__(self,x,y,z):\n",
        "    # constructor\n",
        "    self.name=x\n",
        "    self.age=y\n",
        "    self.marks=z\n",
        "  def display(self):\n",
        "    print(\"Name:- \", self.name)\n",
        "    print(\"Age:- \", self.age)\n",
        "    print(\"Marks:-\",self.marks)\n",
        "\n",
        "#a=input(\"ENter name\")\n",
        "#b=int(input(\"Enter age\"))\n",
        "#c=int(input(\"ENter ur marks\"))\n",
        "obj1=Student(\"Ram\",77,80)\n",
        "obj2=Student(\"Mayank\",21,88)\n",
        "print(obj1.name)\n",
        "print(obj1.age)\n",
        "print(obj1.marks)\n",
        "obj2.display()\n",
        "print(Student.classname)\n",
        "print(obj1.classname)\n",
        "obj2.classname=\"A\"\n",
        "print(obj2.classname)\n",
        "print(obj1.classname)\n"
      ],
      "metadata": {
        "colab": {
          "base_uri": "https://localhost:8080/"
        },
        "id": "-wkVR-rX-t5v",
        "outputId": "37526d60-b78b-44a1-d4fc-966227632dd9"
      },
      "id": "-wkVR-rX-t5v",
      "execution_count": null,
      "outputs": [
        {
          "output_type": "stream",
          "name": "stdout",
          "text": [
            "Ram\n",
            "77\n",
            "80\n",
            "Name:-  Mayank\n",
            "Age:-  21\n",
            "Marks:- 88\n",
            "AIDS\n",
            "AIDS\n",
            "A\n",
            "AIDS\n"
          ]
        }
      ]
    },
    {
      "cell_type": "markdown",
      "source": [
        "7Types of Variables:-\n",
        "-\tInstance Variables\n",
        "o\tIts separate copy is created in every instance.\n",
        "-\tClass/Static Variables\n",
        "o\tSingle copy is available to all instances.\n"
      ],
      "metadata": {
        "id": "NUKiYHax_pQx"
      },
      "id": "NUKiYHax_pQx"
    },
    {
      "cell_type": "code",
      "source": [
        "class Student(object):\n",
        "    cnt=0   #class variable\n",
        "    def __init__(self,n='',m=0,a=0):\n",
        "        self.name=n\n",
        "        self.marks=m\n",
        "        self.age=a\n",
        "\n",
        "    def talk(self):\n",
        "        print(\"Name:- \", self.name)\n",
        "        print(\"Age:- \", self.age)\n",
        "        print(\"Marks:-\",self.marks)\n",
        "\n",
        "    @classmethod     # built in decorator statement\n",
        "    def count(cls):\n",
        "        cls.cnt+=1\n",
        "\n",
        "obj1=Student()\n",
        "obj1.talk()\n",
        "obj2=Student(\"Yash\",600,21)\n",
        "obj2.talk()\n",
        "obj1.count()\n",
        "obj2.count()\n",
        "print(\"No of Objects\", obj1.cnt)\n"
      ],
      "metadata": {
        "id": "ZAgmeomU-vNO"
      },
      "id": "ZAgmeomU-vNO",
      "execution_count": null,
      "outputs": []
    },
    {
      "cell_type": "markdown",
      "source": [
        "Class Method:-\n",
        "-\tIt use first parameter by default ‘cls’ with which we can access the class variable.\n",
        "-\tExample:-\n",
        "\n",
        " @classmethod     # built in decorator statement\n",
        "      def count(cls):\n",
        "      cls.cnt+=1\n",
        "-\tWe can also have other parameters in the class method in addition to the ‘cls’ parameter.\n",
        "-\tWe can access the class variables from outside the class using class name. classname.variable…\n"
      ],
      "metadata": {
        "id": "8nJgHKqEBHB2"
      },
      "id": "8nJgHKqEBHB2"
    },
    {
      "cell_type": "code",
      "source": [
        "class Student(object):\n",
        "    cnt=0   #class varaible\n",
        "    def __init__(self,n='',m=0,a=0):\n",
        "        Student.cnt+=1\n",
        "        print(\"Student:-\",Student.cnt)\n",
        "        self.name=n\n",
        "        self.marks=m\n",
        "        self.age=a\n",
        "\n",
        "        def talk(self):\n",
        "        print(\"Name:- \", self.name)\n",
        "        print(\"Age:- \", self.age)\n",
        "        print(\"Marks:-\",self.marks)\n",
        "\n",
        "    @classmethod     # built in decorator statement\n",
        "    def count(cls):\n",
        "        print(\"No of Objects\", cls.cnt)\n",
        "\n",
        "obj1=Student()\n",
        "obj1.talk()\n",
        "obj2=Student(\"Yash\",600,21)\n",
        "obj2.talk()\n",
        "obj2.count()\n",
        "print(\"No of Objects\", obj1.cnt)\n"
      ],
      "metadata": {
        "id": "_0goMqmH-vYS"
      },
      "id": "_0goMqmH-vYS",
      "execution_count": null,
      "outputs": []
    },
    {
      "cell_type": "code",
      "source": [
        "class Employee:\n",
        "\n",
        "    def __init__(self,eid,enm,username,password,projectname):\n",
        "        self.emp_id = eid\n",
        "        self.emp_name = enm\n",
        "        self._emp_username = username           # Protected Variable (Same class and Child Classes)\n",
        "        self.__emp_password = password          # Strictly Private (Only Within a class)\n",
        "        self.emp_projectname = projectname\n",
        "\n",
        "\n",
        "\n",
        "e1 = Employee(eid=101,enm=\"Mr AAAA\",username=\"python\",password=\"python123\",projectname=\"ABCD\")\n",
        "print(e1._emp_username)                                         #--> Public\n",
        "print(e1._Employee__emp_password)      #_object._class__variable --> Public"
      ],
      "metadata": {
        "id": "uPWJfoi1-vck",
        "colab": {
          "base_uri": "https://localhost:8080/"
        },
        "outputId": "e6dd118b-13da-468b-e3ac-8fbca71b59e9"
      },
      "id": "uPWJfoi1-vck",
      "execution_count": null,
      "outputs": [
        {
          "output_type": "stream",
          "name": "stdout",
          "text": [
            "python\n",
            "python123\n"
          ]
        }
      ]
    },
    {
      "cell_type": "markdown",
      "source": [
        "Types of Methods:-\n",
        "-\tInstance Methods\n",
        "o\tAccessor Methods\n",
        "\tAccess or read the data of variable\n",
        "\tThey do not modify the values/data of variable\n",
        "\tAre also called getter method\n",
        "\tWritten in the form getXXX( )\n",
        "o\tMutator Methods\n",
        "\tNot only read but also modify them.\n",
        "\tAlso called setter method\n",
        "\tWritten in the form setXXX( )\n",
        "-\tClass Methods\n",
        "o\tThese methods act on class level.\n",
        "o\tIt can act on class or static variable\n",
        "o\tThese methods are written using @classmethod decorator\n",
        "o\tBy default first parameter is cls.\n",
        "o\tThese methods are generally called using classname.methodname()\n",
        "\n",
        "-\tStatic Methods\n",
        "o\tWe required static methods when some processing is related to the class but does not need the class or its instances to perform any work.\n",
        "o\tExample, counting number of instances of class.\n",
        "o\tStatic methods are written with @staticmethod decorator\n",
        "o\tThese methods are generally called using classname.methodname()\n"
      ],
      "metadata": {
        "id": "FWsW9ESWA6pk"
      },
      "id": "FWsW9ESWA6pk"
    },
    {
      "cell_type": "code",
      "source": [
        "class Test:\n",
        "    c=0 #this is class/static variable\n",
        "\n",
        "    def __init__(self):\n",
        "        Test.c+=1\n",
        "    @staticmethod\n",
        "    def objCount():\n",
        "        print('No of objects are ',Test.c)\n",
        "\n",
        "t1=Test()\n",
        "t2=Test()\n",
        "t3=Test()\n",
        "t4=Test()\n",
        "Test.objCount()\n"
      ],
      "metadata": {
        "id": "YCmgZdPR-vf3"
      },
      "id": "YCmgZdPR-vf3",
      "execution_count": null,
      "outputs": []
    },
    {
      "cell_type": "code",
      "source": [
        "x = 1\n",
        "\n",
        "def m1():\n",
        "\n",
        "    x1 = 2\n",
        "\n",
        "    def im1():\n",
        "        nonlocal x1\n",
        "        global  x\n",
        "        x1 = 3\n",
        "m1()"
      ],
      "metadata": {
        "id": "WaFlv1_OdnFh"
      },
      "id": "WaFlv1_OdnFh",
      "execution_count": null,
      "outputs": []
    },
    {
      "cell_type": "code",
      "source": [
        "x = 1           # global variable\n",
        "def f1():\n",
        "    x = 2\n",
        "    print('f1-->',x)        #2\n",
        "    def in1():                  # nested or inner function --> in1 is local for f1... f1 >\n",
        "        nonlocal x          #\n",
        "        print('in1 --> ',x)         # 1\n",
        "        x = 3  # 1 is replaced by 3\n",
        "        print('in1 : ',x)   # 3\n",
        "\n",
        "    in1()               # f1 madhe cal\n",
        "    print('f1 completed...',x)  # 2\n",
        "#in1()   # ans is no -->\n",
        "print(x)    # 1\n",
        "\n",
        "f1()        # ---> f1 internally in1 call karel...\n",
        "\n",
        "print('outside f1 completed...', x)  # 3"
      ],
      "metadata": {
        "colab": {
          "base_uri": "https://localhost:8080/"
        },
        "id": "sez8FkbZdm6q",
        "outputId": "a684782a-dba5-4826-89b7-4147eaca329e"
      },
      "id": "sez8FkbZdm6q",
      "execution_count": null,
      "outputs": [
        {
          "output_type": "stream",
          "name": "stdout",
          "text": [
            "1\n",
            "f1--> 2\n",
            "in1 -->  2\n",
            "in1 :  3\n",
            "f1 completed... 3\n",
            "outside f1 completed... 1\n"
          ]
        }
      ]
    },
    {
      "cell_type": "code",
      "source": [],
      "metadata": {
        "id": "P_jJjkTU-vkJ"
      },
      "id": "P_jJjkTU-vkJ",
      "execution_count": null,
      "outputs": []
    },
    {
      "cell_type": "code",
      "execution_count": null,
      "id": "2d1c72af",
      "metadata": {
        "id": "2d1c72af",
        "outputId": "ab1a3482-6aac-44cd-f1c6-15852b5f9329"
      },
      "outputs": [
        {
          "name": "stdout",
          "output_type": "stream",
          "text": [
            "Student ID= 23\n",
            "Student name= Siddhesh\n",
            "Student class is not created\n",
            "Student ID= 23\n",
            "Student name= Siddhesh\n",
            "Student class= MBA Tech A\n"
          ]
        }
      ],
      "source": [
        "#1.Write a Python class named Student with two attributes student_id, student_name.\n",
        "#Add a new attribute student_class.\n",
        "#Create a function to display the entire attribute and their values in Student class with\n",
        "#exception handling.\n",
        "#Note: Values are given in class\n",
        "class Student:\n",
        "    student_id=23          #class variable\n",
        "    student_name=\"Siddhesh\"\n",
        "    @classmethod\n",
        "    def display(cls):\n",
        "        print(\"Student ID=\",cls.student_id)\n",
        "        print(\"Student name=\",cls.student_name)\n",
        "        try:\n",
        "            print(\"Student class=\",cls.student_class)\n",
        "        except:\n",
        "            print(\"Student class is not created\")\n",
        "s=Student()\n",
        "s.display()\n",
        "Student.student_class=\"MBA Tech A\"\n",
        "s.display()\n"
      ]
    },
    {
      "cell_type": "code",
      "execution_count": null,
      "id": "785d73a9",
      "metadata": {
        "id": "785d73a9",
        "outputId": "e9ea8736-9ed3-4de8-a3f9-e0e8dbffcaa8"
      },
      "outputs": [
        {
          "name": "stdout",
          "output_type": "stream",
          "text": [
            "NO= 1\n",
            "NAme= Om\n",
            "NO= 2\n",
            "NAme= Rao\n",
            "It is not object of student\n"
          ]
        }
      ],
      "source": [
        "#2.Write a Python class named Student with two instances student1, student2 and\n",
        "# assign given values to the said instances attributes.\n",
        "#Print all the attributes of student1, student2 instances with their values in\n",
        "#the given format with exception handling.\n",
        "class Student:\n",
        "    def __init__(self,rno,name):\n",
        "        self.rno=rno\n",
        "        self.nm=name\n",
        "    def disp(self):\n",
        "        print(\"NO=\",self.rno)\n",
        "        print(\"NAme=\",self.nm)\n",
        "\n",
        "s1=Student(1,\"Om\")\n",
        "s2=Student(2,\"Rao\")\n",
        "s3=\"Sandesh\"\n",
        "students =[s1,s2,s3]\n",
        "for student in students:\n",
        "    try:\n",
        "        student.disp()\n",
        "    except:\n",
        "        print(\"It is not object of Student\")"
      ]
    },
    {
      "cell_type": "code",
      "execution_count": null,
      "id": "54192d01",
      "metadata": {
        "id": "54192d01",
        "outputId": "91e9c317-afb4-4105-926c-6b892c654f76"
      },
      "outputs": [
        {
          "name": "stdout",
          "output_type": "stream",
          "text": [
            "This no_of_sides() of Square class\n",
            "data1 is not created\n",
            "finally block\n"
          ]
        }
      ],
      "source": [
        "# method overriding & overloading of below diagram with exception handling\n",
        "class Shape:\n",
        "    def __init__(self,data1):\n",
        "        self.data1=data1\n",
        "    def no_of_sides(self):\n",
        "        print(\"This no_of_sides() of Shape class\")\n",
        "    def two_dimensional(self):\n",
        "        print(\"This is 2D Shape\")\n",
        "\n",
        "class Square(Shape):\n",
        "    def __init__(self,data2):\n",
        "        self.data2=data2\n",
        "    def no_of_sides(self):\n",
        "        print(\"This no_of_sides() of Square class\")\n",
        "        try:\n",
        "            print(obj.data1)\n",
        "        except:\n",
        "            print(\"data1 is not created\")\n",
        "        finally:\n",
        "            print(\"finally block\")\n",
        "\n",
        "    def color(self):\n",
        "        print(\"The color of side is black\")\n",
        "obj=Square(20)\n",
        "obj.no_of_sides()"
      ]
    },
    {
      "cell_type": "code",
      "source": [],
      "metadata": {
        "id": "WIlmOqeIhuhB"
      },
      "id": "WIlmOqeIhuhB",
      "execution_count": null,
      "outputs": []
    },
    {
      "cell_type": "markdown",
      "source": [
        "Polymorphism - Same name with Multiple Implementations\n",
        "\n",
        "    1. Method Oveloading --> function name same but params diff...(python doesnt support method overloading)\n",
        "    Due to Dynamically Typed Lang...\n",
        "    \n",
        "    2. Method Overriding - Function name + params exactly same ..*\n",
        "        \n",
        "    \n",
        "    More than One with same name--> method/function --> Polymorphism.."
      ],
      "metadata": {
        "id": "InCjUdXLiN-R"
      },
      "id": "InCjUdXLiN-R"
    },
    {
      "cell_type": "code",
      "execution_count": null,
      "metadata": {
        "id": "afd15e3f",
        "colab": {
          "base_uri": "https://localhost:8080/",
          "height": 105
        },
        "outputId": "a2b3d840-dd41-4d0b-9d1c-5a85339f1730"
      },
      "outputs": [
        {
          "output_type": "stream",
          "name": "stdout",
          "text": [
            "inside function one - v2\n",
            "inside function one - v2\n",
            "inside function one - v2\n"
          ]
        },
        {
          "output_type": "execute_result",
          "data": {
            "text/plain": [
              "'\\ndef function_one(int a, int b):\\n    print(\\'inside function one - v2\\')\\n\\ndef function_one(String a,int b):\\n    print(\\'inside function one - v2\\')\\n\\nfunction_one(10,20) # --> first function\\nfunction_one(\"A\",20) # --> second function\\nfunction_one(\"A\",\"B\") # there is no such function which accepts 2 string params\\n'"
            ],
            "application/vnd.google.colaboratory.intrinsic+json": {
              "type": "string"
            }
          },
          "metadata": {},
          "execution_count": 10
        }
      ],
      "source": [
        "#polymorphism\n",
        "v1 = 100\n",
        "v1 = 200\n",
        "\n",
        "def function_one():\n",
        "    print('inside function one -- v1')\n",
        "\n",
        "def function_one(a,b):\n",
        "    print('inside function one - v2')\n",
        "\n",
        "\n",
        "#function_one()      # ERROR\n",
        "function_one(100,200)\n",
        "function_one(\"A\",\"B\")\n",
        "function_one(100,\"A\")\n",
        "\n",
        "'''\n",
        "def function_one(int a, int b):\n",
        "    print('inside function one - v2')\n",
        "\n",
        "def function_one(String a,int b):\n",
        "    print('inside function one - v2')\n",
        "\n",
        "function_one(10,20) # --> first function\n",
        "function_one(\"A\",20) # --> second function\n",
        "function_one(\"A\",\"B\") # there is no such function which accepts 2 string params\n",
        "'''"
      ],
      "id": "afd15e3f"
    },
    {
      "cell_type": "code",
      "source": [
        "#inheratance\n",
        "\n",
        "class Person:\n",
        "\n",
        "    def __init__(self,name,address,email,dept):\n",
        "        self.name = name\n",
        "        self.address = address\n",
        "        self.email = email\n",
        "        self.dept = dept\n",
        "\n",
        "\n",
        "class Student(Person):\n",
        "\n",
        "    def __init__(self,name,address,email,fees,dept):\n",
        "        super().__init__(name,address,email,dept)\n",
        "        self.fees = fees\n",
        "\n",
        "\n",
        "class Employee(Person):\n",
        "    def __init__(self,name,address,email,salary,dept):\n",
        "        super().__init__(name, address, email, dept)\n",
        "        self.salary = salary\n",
        "\n",
        "\n",
        "#p1 = Student(name= \"S1\",address=\"Pune\",email=\"s1@gmail.com\",fees = 1289.23,dept=\"IT\")\n",
        "#p1 = Employee(name=\"E1\",address=\"Pune\",email=\"e1@infy.com\",salary=12892.23,dept='Developer')\n",
        "p1 = Person(name=\"P1\",address=\"Pune\",email=\"e1@infy.com\",dept=\"XXXX\")\n",
        "#print(s1.name)  # s1\n",
        "#print(e1.name)  #e1\n",
        "\n",
        "print(type(p1) == Person)\n",
        "print(type(p1) == Student)\n",
        "print(type(p1) == Employee)\n",
        "\n",
        "print(isinstance(p1,Person))\n",
        "print(isinstance(p1,Student))\n",
        "print(isinstance(p1,Person))\n",
        "\n",
        "print('--------')\n",
        "\n",
        "print(issubclass(Employee,Person))  # first class --> is same or Subclass of Second one..\n",
        "\n",
        "\n",
        "\n",
        "\n",
        "\n",
        "import sys\n",
        "sys.exit(0)\n",
        "\n",
        "class Student:\n",
        "\n",
        "    institute_name = 'NMIMS'                  #class Variable\n",
        "\n",
        "    def __init__(self,id,name,address):\n",
        "        self.stud_id = id                           #stud_id,stud_name.stud_address -> instance\n",
        "        self.stud_name = name                       #id,name,address -- local\n",
        "        self.stud_address = address\n",
        "\n",
        "s1 = Student(id=101,name='Megha',address='Pune1')\n",
        "s2 = Student(id=102,name='Pragati',address='Pune2')\n",
        "s3 = Student(id=103,name='Sheeta',address='Pune3')\n",
        "\n",
        "print(s1.stud_name) # Megha\n",
        "print(s2.stud_name) # Pragati\n",
        "\n",
        "s1.stud_pancard = \"ABCD12345\"\n",
        "Student.stud_pancard = \"PQRS2444\"\n",
        "\n",
        "print(s1.stud_pancard) # ABCD12345\n",
        "print(s2.stud_pancard) #PQRS2444 --> class kdn\n",
        "\n",
        "s2.stud_pancard = \"XXXXXXX\"\n",
        "\n",
        "print(s2.stud_pancard)     #   XXXXXXX\n",
        "print(Student.stud_pancard) #PQRS2444"
      ],
      "metadata": {
        "id": "6Eq90zbviiAt"
      },
      "id": "6Eq90zbviiAt",
      "execution_count": null,
      "outputs": []
    },
    {
      "cell_type": "code",
      "source": [
        "#que 1\n",
        "class Employee:\n",
        "  def __init__(self,nm,sal):\n",
        "    self.employee_name=nm\n",
        "    self.employee_salary=sal\n",
        "\n",
        "e1=Employee(\"Ram\",1000)\n",
        "e2=Employee(\"Shyam\",2000)\n",
        "\n",
        "if e1.salary>e2.salary:\n",
        "   print(e1.name,\"has Maximum salary\")\n",
        "else:\n",
        "    print(e2.name,\"has Maximum salary\")\n",
        "\n"
      ],
      "metadata": {
        "colab": {
          "base_uri": "https://localhost:8080/"
        },
        "id": "JlpConxaAyZe",
        "outputId": "bc768177-5d1a-4fa0-fce7-1e03d1cf2c33"
      },
      "id": "JlpConxaAyZe",
      "execution_count": null,
      "outputs": [
        {
          "output_type": "stream",
          "name": "stdout",
          "text": [
            "Shyam has Maximum salary\n"
          ]
        }
      ]
    },
    {
      "cell_type": "code",
      "source": [
        "class Student:\n",
        "  def __init__(self,rno,name,list1):\n",
        "    self.rno=rno\n",
        "    self.name=name\n",
        "    self.marks=list1\n",
        "  def display(self):\n",
        "    perc=(sum(self.marks))/5\n",
        "    print(\"Roll number=\",self.rno)\n",
        "    print(\"Name\",self.name)\n",
        "    print(\"Percentage=\",perc)\n",
        "\n",
        "rn=int(input(\"Enter roll number\"))\n",
        "nm=input(\"Entr ur name\")\n",
        "list1=[]\n",
        "for i in range(5):\n",
        "  list1.append(int(input(\"ENter subject marks\")))\n",
        "obj=Student(rn,nm,list1)\n",
        "obj.display()"
      ],
      "metadata": {
        "id": "iMwaVUbFBwbt",
        "colab": {
          "base_uri": "https://localhost:8080/",
          "height": 424
        },
        "outputId": "930a1470-8f99-4806-e1ed-9a0ccb8abea9"
      },
      "id": "iMwaVUbFBwbt",
      "execution_count": null,
      "outputs": [
        {
          "name": "stdout",
          "output_type": "stream",
          "text": [
            "Enter roll number1\n",
            "Entr ur namexz\n",
            "ENter subject marks10\n",
            "ENter subject marks20\n",
            "ENter subject marks30\n",
            "ENter subject marks40\n",
            "ENter subject marks50\n"
          ]
        },
        {
          "output_type": "error",
          "ename": "AttributeError",
          "evalue": "'Student' object has no attribute 'list1'",
          "traceback": [
            "\u001b[0;31m---------------------------------------------------------------------------\u001b[0m",
            "\u001b[0;31mAttributeError\u001b[0m                            Traceback (most recent call last)",
            "\u001b[0;32m<ipython-input-1-25ce7b0eeb61>\u001b[0m in \u001b[0;36m<cell line: 17>\u001b[0;34m()\u001b[0m\n\u001b[1;32m     15\u001b[0m   \u001b[0mlist1\u001b[0m\u001b[0;34m.\u001b[0m\u001b[0mappend\u001b[0m\u001b[0;34m(\u001b[0m\u001b[0mint\u001b[0m\u001b[0;34m(\u001b[0m\u001b[0minput\u001b[0m\u001b[0;34m(\u001b[0m\u001b[0;34m\"ENter subject marks\"\u001b[0m\u001b[0;34m)\u001b[0m\u001b[0;34m)\u001b[0m\u001b[0;34m)\u001b[0m\u001b[0;34m\u001b[0m\u001b[0;34m\u001b[0m\u001b[0m\n\u001b[1;32m     16\u001b[0m \u001b[0mobj\u001b[0m\u001b[0;34m=\u001b[0m\u001b[0mStudent\u001b[0m\u001b[0;34m(\u001b[0m\u001b[0mrn\u001b[0m\u001b[0;34m,\u001b[0m\u001b[0mnm\u001b[0m\u001b[0;34m,\u001b[0m\u001b[0mlist1\u001b[0m\u001b[0;34m)\u001b[0m\u001b[0;34m\u001b[0m\u001b[0;34m\u001b[0m\u001b[0m\n\u001b[0;32m---> 17\u001b[0;31m \u001b[0mobj\u001b[0m\u001b[0;34m.\u001b[0m\u001b[0mdisplay\u001b[0m\u001b[0;34m(\u001b[0m\u001b[0;34m)\u001b[0m\u001b[0;34m\u001b[0m\u001b[0;34m\u001b[0m\u001b[0m\n\u001b[0m",
            "\u001b[0;32m<ipython-input-1-25ce7b0eeb61>\u001b[0m in \u001b[0;36mdisplay\u001b[0;34m(self)\u001b[0m\n\u001b[1;32m      5\u001b[0m     \u001b[0mself\u001b[0m\u001b[0;34m.\u001b[0m\u001b[0mmarks\u001b[0m\u001b[0;34m=\u001b[0m\u001b[0mlist1\u001b[0m\u001b[0;34m\u001b[0m\u001b[0;34m\u001b[0m\u001b[0m\n\u001b[1;32m      6\u001b[0m   \u001b[0;32mdef\u001b[0m \u001b[0mdisplay\u001b[0m\u001b[0;34m(\u001b[0m\u001b[0mself\u001b[0m\u001b[0;34m)\u001b[0m\u001b[0;34m:\u001b[0m\u001b[0;34m\u001b[0m\u001b[0;34m\u001b[0m\u001b[0m\n\u001b[0;32m----> 7\u001b[0;31m     \u001b[0mperc\u001b[0m\u001b[0;34m=\u001b[0m\u001b[0;34m(\u001b[0m\u001b[0msum\u001b[0m\u001b[0;34m(\u001b[0m\u001b[0mself\u001b[0m\u001b[0;34m.\u001b[0m\u001b[0mlist1\u001b[0m\u001b[0;34m)\u001b[0m\u001b[0;34m)\u001b[0m\u001b[0;34m/\u001b[0m\u001b[0;36m5\u001b[0m\u001b[0;34m\u001b[0m\u001b[0;34m\u001b[0m\u001b[0m\n\u001b[0m\u001b[1;32m      8\u001b[0m     \u001b[0mprint\u001b[0m\u001b[0;34m(\u001b[0m\u001b[0;34m\"Roll number=\"\u001b[0m\u001b[0;34m,\u001b[0m\u001b[0mself\u001b[0m\u001b[0;34m.\u001b[0m\u001b[0mrno\u001b[0m\u001b[0;34m)\u001b[0m\u001b[0;34m\u001b[0m\u001b[0;34m\u001b[0m\u001b[0m\n\u001b[1;32m      9\u001b[0m     \u001b[0mprint\u001b[0m\u001b[0;34m(\u001b[0m\u001b[0;34m\"Name=\"\u001b[0m\u001b[0;34m,\u001b[0m\u001b[0mself\u001b[0m\u001b[0;34m.\u001b[0m\u001b[0mname\u001b[0m\u001b[0;34m)\u001b[0m\u001b[0;34m\u001b[0m\u001b[0;34m\u001b[0m\u001b[0m\n",
            "\u001b[0;31mAttributeError\u001b[0m: 'Student' object has no attribute 'list1'"
          ]
        }
      ]
    },
    {
      "cell_type": "code",
      "source": [
        "class Person(object):\n",
        "  def __init__(self,a,b):\n",
        "    self.name=a\n",
        "    self.age=b\n",
        "  def display_person(self):\n",
        "    print(\"name:\",self.name)\n",
        "    print(\"Age:\",self.age)\n",
        "\n",
        "class Student(Person):\n",
        "  def __init__(self,a,b,c):\n",
        "    self.marks=c\n",
        "    super().__init__(a,b)\n",
        "  def display_student(self):\n",
        "    print(\"name:\",self.name)\n",
        "    print(\"Age:\",self.age)\n",
        "    print(\"Marks:\",self.marks)\n",
        "obj=Student(\"Sandip\",65,99.8)\n",
        "obj.display_person()"
      ],
      "metadata": {
        "colab": {
          "base_uri": "https://localhost:8080/"
        },
        "id": "81l5dUlWKVWM",
        "outputId": "2777f3b4-cee8-4127-a6b9-c4127197ad85"
      },
      "id": "81l5dUlWKVWM",
      "execution_count": null,
      "outputs": [
        {
          "output_type": "stream",
          "name": "stdout",
          "text": [
            "name: Sandip\n",
            "Age: 65\n"
          ]
        }
      ]
    },
    {
      "cell_type": "code",
      "source": [
        "class Employee:\n",
        "  def __init__(self,nm,sal):\n",
        "    self.employee_name=nm\n",
        "    self.employee_salary=sal\n",
        "  def display(self):\n",
        "    print(\"Employee name=\",self.employee_name)\n",
        "    print(\"Employee salary=\",self.employee_salary)\n",
        "e1=Employee(\"Sandip\",1000)\n",
        "nm=input(\"entr ur name\")\n",
        "sal=int(input(\"enter ur salary\"))\n",
        "e2=Employee(nm,sal)\n",
        "if e1.employee_salarysalary>e2.salary:\n",
        "   print(e1.employee_namename,\"has Maximum salary\")\n",
        "else:\n",
        "    print(e2.employee_namename,\"has Maximum salary\")"
      ],
      "metadata": {
        "id": "HWZvpe2iLqOL",
        "colab": {
          "base_uri": "https://localhost:8080/"
        },
        "outputId": "3277428d-97ce-4e09-fa90-0edbb9c1de1f"
      },
      "id": "HWZvpe2iLqOL",
      "execution_count": null,
      "outputs": [
        {
          "output_type": "stream",
          "name": "stdout",
          "text": [
            "entr ur namesan\n",
            "enter ur salary444\n",
            "Employee name= Sandip\n",
            "Employee salary= 1000\n",
            "Employee name= san\n",
            "Employee salary= 444\n"
          ]
        }
      ]
    },
    {
      "cell_type": "code",
      "source": [],
      "metadata": {
        "id": "f0A2iqHMs090"
      },
      "id": "f0A2iqHMs090",
      "execution_count": null,
      "outputs": []
    }
  ],
  "metadata": {
    "kernelspec": {
      "display_name": "Python 3 (ipykernel)",
      "language": "python",
      "name": "python3"
    },
    "language_info": {
      "codemirror_mode": {
        "name": "ipython",
        "version": 3
      },
      "file_extension": ".py",
      "mimetype": "text/x-python",
      "name": "python",
      "nbconvert_exporter": "python",
      "pygments_lexer": "ipython3",
      "version": "3.9.12"
    },
    "colab": {
      "provenance": [],
      "include_colab_link": true
    }
  },
  "nbformat": 4,
  "nbformat_minor": 5
}